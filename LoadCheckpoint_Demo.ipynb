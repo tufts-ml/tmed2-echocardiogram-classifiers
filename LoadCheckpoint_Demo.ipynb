{
 "cells": [
  {
   "cell_type": "code",
   "execution_count": 1,
   "metadata": {},
   "outputs": [],
   "source": [
    "# import tensorflow.compat.v1 as tf\n",
    "import tensorflow as tf\n",
    "import numpy as np\n",
    "import os\n",
    "import PIL.Image\n",
    "from matplotlib import pylab as P\n",
    "import functools\n",
    "import sys\n",
    "import pandas as pd\n",
    "\n",
    "%matplotlib inline\n"
   ]
  },
  {
   "cell_type": "code",
   "execution_count": 2,
   "metadata": {},
   "outputs": [
    {
     "data": {
      "text/plain": [
       "'1.15.0'"
      ]
     },
     "execution_count": 2,
     "metadata": {},
     "output_type": "execute_result"
    }
   ],
   "source": [
    "tf.__version__\n"
   ]
  },
  {
   "cell_type": "code",
   "execution_count": 3,
   "metadata": {},
   "outputs": [],
   "source": [
    "from tensorflow.python.util import deprecation\n",
    "deprecation._PRINT_DEPRECATION_WARNINGS = False"
   ]
  },
  {
   "cell_type": "code",
   "execution_count": 4,
   "metadata": {},
   "outputs": [],
   "source": [
    "ViewLabel_to_Name_mapping = {0: \"PLAX\", 1: \"PSAX\", 2: \"A4C\", 3: \"A2C\", 4:\"Useful_Unlabeled\", -1:\"Not_Provided\"}\n",
    "DiagnosisLabel_to_Name_mapping = {0: \"no_AS\", 1: \"early_AS\", 2: \"significant_AS\", -1: \"Not_Provided\"}\n"
   ]
  },
  {
   "cell_type": "code",
   "execution_count": null,
   "metadata": {},
   "outputs": [],
   "source": []
  },
  {
   "cell_type": "markdown",
   "metadata": {},
   "source": [
    "### Utility methods"
   ]
  },
  {
   "cell_type": "code",
   "execution_count": 5,
   "metadata": {},
   "outputs": [],
   "source": [
    "def normalize_to_be_the_same_value_seen_by_model(image):\n",
    "    \n",
    "    image = image[:,:,np.newaxis] * 2.0 /255 - 1.0\n",
    "    \n",
    "    return image"
   ]
  },
  {
   "cell_type": "code",
   "execution_count": 6,
   "metadata": {},
   "outputs": [],
   "source": [
    "# Boilerplate methods\n",
    "\n",
    "def ShowGrayscaleImage(im, title='', ax=None):\n",
    "    if ax is None:\n",
    "        P.figure()\n",
    "    P.axis('off')\n",
    "    \n",
    "    P.imshow(im , cmap=P.cm.gray, vmin=0, vmax=1) #im is of float, 0-1\n",
    "\n",
    "    P.title(title)\n",
    "\n",
    "    \n",
    "def LoadImage(file_path):\n",
    "    im = PIL.Image.open(file_path)\n",
    "    im = np.asarray(im)\n",
    "    return im\n",
    "    \n",
    " "
   ]
  },
  {
   "cell_type": "code",
   "execution_count": 7,
   "metadata": {},
   "outputs": [],
   "source": [
    "def getter_ema(ema, getter, name, *args, **kwargs):\n",
    "    \"\"\"Exponential moving average getter for variable scopes.\n",
    "\n",
    "    Args:\n",
    "        ema: ExponentialMovingAverage object, where to get variable moving averages.\n",
    "        getter: default variable scope getter.\n",
    "        name: variable name.\n",
    "        *args: extra args passed to default getter.\n",
    "        **kwargs: extra args passed to default getter.\n",
    "\n",
    "    Returns:\n",
    "        If found the moving average variable, otherwise the default variable.\n",
    "    \"\"\"\n",
    "    var = getter(name, *args, **kwargs)\n",
    "    ema_var = ema.average(var)\n",
    "    return ema_var if ema_var else var"
   ]
  },
  {
   "cell_type": "code",
   "execution_count": 8,
   "metadata": {},
   "outputs": [],
   "source": [
    "def model_vars(scope=None):\n",
    "    return tf.get_collection(tf.GraphKeys.TRAINABLE_VARIABLES, scope)"
   ]
  },
  {
   "cell_type": "code",
   "execution_count": null,
   "metadata": {},
   "outputs": [],
   "source": []
  },
  {
   "cell_type": "markdown",
   "metadata": {},
   "source": [
    "### Construct model"
   ]
  },
  {
   "cell_type": "markdown",
   "metadata": {},
   "source": [
    "### View, fs"
   ]
  },
  {
   "cell_type": "code",
   "execution_count": 9,
   "metadata": {},
   "outputs": [],
   "source": [
    "dataset_mean = 0\n",
    "dataset_std = 1\n",
    "nclass = 5"
   ]
  },
  {
   "cell_type": "code",
   "execution_count": 10,
   "metadata": {},
   "outputs": [],
   "source": [
    "hwc = [112, 112, 1]\n",
    "scales = 4\n",
    "filters = 32\n",
    "repeat = 4\n",
    "training = False "
   ]
  },
  {
   "cell_type": "code",
   "execution_count": 11,
   "metadata": {},
   "outputs": [],
   "source": [
    "def classifier(x, scales, filters, repeat, training, dropout_rate=0.1, getter=None, **kwargs):\n",
    "    del kwargs\n",
    "    leaky_relu = functools.partial(tf.nn.leaky_relu, alpha=0.1)\n",
    "    bn_args = dict(training=training, momentum=0.999)\n",
    "\n",
    "    def conv_args(k, f):\n",
    "        return dict(padding='same',\n",
    "                    kernel_initializer=tf.random_normal_initializer(stddev=tf.rsqrt(0.5 * k * k * f)))\n",
    "\n",
    "    def residual(x0, filters, stride=1, activate_before_residual=False):\n",
    "        x = leaky_relu(tf.layers.batch_normalization(x0, **bn_args))\n",
    "        if activate_before_residual:\n",
    "            x0 = x\n",
    "\n",
    "        x = tf.layers.conv2d(x, filters, 3, strides=stride, **conv_args(3, filters))\n",
    "        x = leaky_relu(tf.layers.batch_normalization(x, **bn_args))\n",
    "        x = tf.layers.dropout(x, rate=dropout_rate, training=training) #20211109: hz add dropout\n",
    "        x = tf.layers.conv2d(x, filters, 3, **conv_args(3, filters))\n",
    "\n",
    "        if x0.get_shape()[3] != filters:\n",
    "            x0 = tf.layers.conv2d(x0, filters, 1, strides=stride, **conv_args(1, filters))\n",
    "\n",
    "        return x0 + x\n",
    "\n",
    "    with tf.variable_scope('classify', reuse=tf.AUTO_REUSE, custom_getter=getter):\n",
    "        y = tf.layers.conv2d((x - dataset_mean) / dataset_std, 16, 3, **conv_args(3, 16))\n",
    "        for scale in range(scales):\n",
    "            y = residual(y, filters << scale, stride=2 if scale else 1, activate_before_residual=scale == 0)\n",
    "            for i in range(repeat - 1):\n",
    "                y = residual(y, filters << scale)\n",
    "\n",
    "        y = leaky_relu(tf.layers.batch_normalization(y, **bn_args))\n",
    "        y = tf.reduce_mean(y, [1, 2])\n",
    "        logits = tf.layers.dense(y, nclass, kernel_initializer=tf.glorot_normal_initializer())\n",
    "    return logits"
   ]
  },
  {
   "cell_type": "code",
   "execution_count": null,
   "metadata": {},
   "outputs": [],
   "source": []
  },
  {
   "cell_type": "markdown",
   "metadata": {},
   "source": [
    "### Create graph and load pretrained weights\n"
   ]
  },
  {
   "cell_type": "code",
   "execution_count": 12,
   "metadata": {},
   "outputs": [
    {
     "name": "stdout",
     "output_type": "stream",
     "text": [
      "INFO:tensorflow:Restoring parameters from /cluster/tufts/hugheslab/zhuang12/JACC_CodeRelease/Echo_TMEDV2/checkpoints/view/fs/seed0/best_balanced_validation_accuracy_ema.ckpt\n"
     ]
    }
   ],
   "source": [
    "model_path = '/cluster/tufts/hugheslab/zhuang12/JACC_CodeRelease/Echo_TMEDV2/checkpoints/view/fs/seed0'\n",
    "\n",
    "# tf.reset_default_graph()\n",
    "graph2 = tf.Graph()\n",
    "sess2 = tf.Session(graph=graph2)\n",
    "with graph2.as_default():\n",
    "    x_in_view = tf.placeholder(tf.float32, [None] + hwc, 'x') #labeled images, after augmentation operation in data_pair.py\n",
    "    logits_view = classifier(x_in_view, scales, filters, repeat, training, getter=None)\n",
    "\n",
    "    ema = tf.train.ExponentialMovingAverage(decay=0.9)\n",
    "    ema_op = ema.apply(model_vars())\n",
    "    ema_getter = functools.partial(getter_ema, ema)\n",
    "    \n",
    "    classify_op_view = tf.nn.softmax(classifier(x_in_view, scales, filters, repeat, getter=ema_getter, training=False))\n",
    "    \n",
    "    saver = tf.train.Saver()\n",
    "    saver.restore(sess2, os.path.join(model_path,'best_balanced_validation_accuracy_ema.ckpt'))"
   ]
  },
  {
   "cell_type": "code",
   "execution_count": null,
   "metadata": {},
   "outputs": [],
   "source": []
  },
  {
   "cell_type": "markdown",
   "metadata": {},
   "source": [
    "### Load the xxx_foldx.csv"
   ]
  },
  {
   "cell_type": "code",
   "execution_count": 13,
   "metadata": {},
   "outputs": [],
   "source": [
    "JACC_fold0_csv = pd.read_csv('/cluster/tufts/hugheslab/zhuang12/JACC_DataRelease/20220412version/SplitImageLabelMapping/release/JACC_fold0.csv')\n"
   ]
  },
  {
   "cell_type": "code",
   "execution_count": 14,
   "metadata": {},
   "outputs": [
    {
     "data": {
      "text/html": [
       "<div>\n",
       "<style scoped>\n",
       "    .dataframe tbody tr th:only-of-type {\n",
       "        vertical-align: middle;\n",
       "    }\n",
       "\n",
       "    .dataframe tbody tr th {\n",
       "        vertical-align: top;\n",
       "    }\n",
       "\n",
       "    .dataframe thead th {\n",
       "        text-align: right;\n",
       "    }\n",
       "</style>\n",
       "<table border=\"1\" class=\"dataframe\">\n",
       "  <thead>\n",
       "    <tr style=\"text-align: right;\">\n",
       "      <th></th>\n",
       "      <th>query_key</th>\n",
       "      <th>view_classifier_split</th>\n",
       "      <th>diagnosis_classifier_split</th>\n",
       "      <th>view_label</th>\n",
       "      <th>diagnosis_label</th>\n",
       "    </tr>\n",
       "  </thead>\n",
       "  <tbody>\n",
       "    <tr>\n",
       "      <th>0</th>\n",
       "      <td>4860s1_0.png</td>\n",
       "      <td>train</td>\n",
       "      <td>train</td>\n",
       "      <td>A4C</td>\n",
       "      <td>moderate_AS</td>\n",
       "    </tr>\n",
       "    <tr>\n",
       "      <th>1</th>\n",
       "      <td>4860s1_1.png</td>\n",
       "      <td>train</td>\n",
       "      <td>train</td>\n",
       "      <td>A2C</td>\n",
       "      <td>moderate_AS</td>\n",
       "    </tr>\n",
       "    <tr>\n",
       "      <th>2</th>\n",
       "      <td>4860s1_2.png</td>\n",
       "      <td>train</td>\n",
       "      <td>train</td>\n",
       "      <td>PLAX</td>\n",
       "      <td>moderate_AS</td>\n",
       "    </tr>\n",
       "    <tr>\n",
       "      <th>3</th>\n",
       "      <td>4860s1_3.png</td>\n",
       "      <td>train</td>\n",
       "      <td>train</td>\n",
       "      <td>PLAX</td>\n",
       "      <td>moderate_AS</td>\n",
       "    </tr>\n",
       "    <tr>\n",
       "      <th>4</th>\n",
       "      <td>4860s1_4.png</td>\n",
       "      <td>train</td>\n",
       "      <td>train</td>\n",
       "      <td>PLAX</td>\n",
       "      <td>moderate_AS</td>\n",
       "    </tr>\n",
       "    <tr>\n",
       "      <th>...</th>\n",
       "      <td>...</td>\n",
       "      <td>...</td>\n",
       "      <td>...</td>\n",
       "      <td>...</td>\n",
       "      <td>...</td>\n",
       "    </tr>\n",
       "    <tr>\n",
       "      <th>378459</th>\n",
       "      <td>3980s1_89.png</td>\n",
       "      <td>unlabeled</td>\n",
       "      <td>not_used</td>\n",
       "      <td>Not_Provided</td>\n",
       "      <td>Not_Provided</td>\n",
       "    </tr>\n",
       "    <tr>\n",
       "      <th>378460</th>\n",
       "      <td>5157s1_0.png</td>\n",
       "      <td>unlabeled</td>\n",
       "      <td>not_used</td>\n",
       "      <td>Not_Provided</td>\n",
       "      <td>Not_Provided</td>\n",
       "    </tr>\n",
       "    <tr>\n",
       "      <th>378461</th>\n",
       "      <td>5157s1_1.png</td>\n",
       "      <td>unlabeled</td>\n",
       "      <td>not_used</td>\n",
       "      <td>Not_Provided</td>\n",
       "      <td>Not_Provided</td>\n",
       "    </tr>\n",
       "    <tr>\n",
       "      <th>378462</th>\n",
       "      <td>5157s1_2.png</td>\n",
       "      <td>unlabeled</td>\n",
       "      <td>not_used</td>\n",
       "      <td>Not_Provided</td>\n",
       "      <td>Not_Provided</td>\n",
       "    </tr>\n",
       "    <tr>\n",
       "      <th>378463</th>\n",
       "      <td>5157s1_3.png</td>\n",
       "      <td>unlabeled</td>\n",
       "      <td>not_used</td>\n",
       "      <td>Not_Provided</td>\n",
       "      <td>Not_Provided</td>\n",
       "    </tr>\n",
       "  </tbody>\n",
       "</table>\n",
       "<p>378464 rows × 5 columns</p>\n",
       "</div>"
      ],
      "text/plain": [
       "            query_key view_classifier_split diagnosis_classifier_split  \\\n",
       "0        4860s1_0.png                 train                      train   \n",
       "1        4860s1_1.png                 train                      train   \n",
       "2        4860s1_2.png                 train                      train   \n",
       "3        4860s1_3.png                 train                      train   \n",
       "4        4860s1_4.png                 train                      train   \n",
       "...               ...                   ...                        ...   \n",
       "378459  3980s1_89.png             unlabeled                   not_used   \n",
       "378460   5157s1_0.png             unlabeled                   not_used   \n",
       "378461   5157s1_1.png             unlabeled                   not_used   \n",
       "378462   5157s1_2.png             unlabeled                   not_used   \n",
       "378463   5157s1_3.png             unlabeled                   not_used   \n",
       "\n",
       "          view_label diagnosis_label  \n",
       "0                A4C     moderate_AS  \n",
       "1                A2C     moderate_AS  \n",
       "2               PLAX     moderate_AS  \n",
       "3               PLAX     moderate_AS  \n",
       "4               PLAX     moderate_AS  \n",
       "...              ...             ...  \n",
       "378459  Not_Provided    Not_Provided  \n",
       "378460  Not_Provided    Not_Provided  \n",
       "378461  Not_Provided    Not_Provided  \n",
       "378462  Not_Provided    Not_Provided  \n",
       "378463  Not_Provided    Not_Provided  \n",
       "\n",
       "[378464 rows x 5 columns]"
      ]
     },
     "execution_count": 14,
     "metadata": {},
     "output_type": "execute_result"
    }
   ],
   "source": [
    "JACC_fold0_csv"
   ]
  },
  {
   "cell_type": "code",
   "execution_count": 15,
   "metadata": {},
   "outputs": [],
   "source": [
    "image_dir = '/cluster/tufts/hugheslab/zhuang12/JACC_DataRelease/20220412version/generated_images/view_and_diagnosis_labeled_set/labeled'\n",
    "\n"
   ]
  },
  {
   "cell_type": "code",
   "execution_count": 25,
   "metadata": {},
   "outputs": [
    {
     "data": {
      "text/plain": [
       "'4860s1_2.png'"
      ]
     },
     "execution_count": 25,
     "metadata": {},
     "output_type": "execute_result"
    }
   ],
   "source": [
    "JACC_fold0_csv.iloc[2].query_key"
   ]
  },
  {
   "cell_type": "code",
   "execution_count": 26,
   "metadata": {},
   "outputs": [],
   "source": [
    "target_image = LoadImage(os.path.join(image_dir, JACC_fold0_csv.iloc[2].query_key))"
   ]
  },
  {
   "cell_type": "code",
   "execution_count": 27,
   "metadata": {},
   "outputs": [
    {
     "data": {
      "image/png": "[encoded data removed]",
      "text/plain": [
       "<Figure size 432x288 with 1 Axes>"
      ]
     },
     "metadata": {
      "needs_background": "light"
     },
     "output_type": "display_data"
    }
   ],
   "source": [
    "ShowGrayscaleImage(target_image/255)\n"
   ]
  },
  {
   "cell_type": "code",
   "execution_count": 28,
   "metadata": {},
   "outputs": [
    {
     "name": "stdout",
     "output_type": "stream",
     "text": [
      "Predicted view label: PLAX\n"
     ]
    }
   ],
   "source": [
    "#Make predictions\n",
    "this_image_input = normalize_to_be_the_same_value_seen_by_model(target_image)\n",
    "view_predictions = sess2.run(classify_op_view, feed_dict={x_in_view:[this_image_input]})[0]\n",
    "view_predicted_label = ViewLabel_to_Name_mapping[np.argmax(view_predictions)]\n",
    "\n",
    "print('Predicted view label: {}'.format(view_predicted_label))\n"
   ]
  },
  {
   "cell_type": "code",
   "execution_count": null,
   "metadata": {},
   "outputs": [],
   "source": []
  }
 ],
 "metadata": {
  "kernelspec": {
   "display_name": "Python 3 (ipykernel)",
   "language": "python",
   "name": "python3"
  },
  "language_info": {
   "codemirror_mode": {
    "name": "ipython",
    "version": 3
   },
   "file_extension": ".py",
   "mimetype": "text/x-python",
   "name": "python",
   "nbconvert_exporter": "python",
   "pygments_lexer": "ipython3",
   "version": "3.8.12"
  }
 },
 "nbformat": 4,
 "nbformat_minor": 4
}
