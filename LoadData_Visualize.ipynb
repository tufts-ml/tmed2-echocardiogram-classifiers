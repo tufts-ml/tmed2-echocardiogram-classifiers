{
 "cells": [
  {
   "cell_type": "code",
   "execution_count": 1,
   "metadata": {},
   "outputs": [],
   "source": [
    "import pandas as pd\n",
    "import numpy as np\n",
    "import os\n",
    "import random\n"
   ]
  },
  {
   "cell_type": "code",
   "execution_count": 2,
   "metadata": {},
   "outputs": [],
   "source": [
    "import PIL.Image as Image\n",
    "from matplotlib import pyplot as plt\n",
    "%matplotlib inline"
   ]
  },
  {
   "cell_type": "code",
   "execution_count": 3,
   "metadata": {},
   "outputs": [],
   "source": [
    "import warnings\n",
    "warnings.filterwarnings('ignore')"
   ]
  },
  {
   "cell_type": "code",
   "execution_count": 4,
   "metadata": {},
   "outputs": [],
   "source": [
    "def LoadImage(file_path):\n",
    "    im = Image.open(file_path)\n",
    "    im = np.asarray(im)/255\n",
    "    return im"
   ]
  },
  {
   "cell_type": "code",
   "execution_count": 5,
   "metadata": {},
   "outputs": [],
   "source": [
    "def ShowGrayscaleImage(file_path, title='', ax=None):\n",
    "    \n",
    "    im = LoadImage(file_path)\n",
    "    if ax is None:\n",
    "        plt.figure()\n",
    "    plt.axis('off')\n",
    "    \n",
    "    plt.imshow(im , cmap=plt.cm.gray, vmin=0, vmax=1) #im is of float, 0-1\n",
    "\n",
    "    plt.title(title)\n"
   ]
  },
  {
   "cell_type": "code",
   "execution_count": 6,
   "metadata": {},
   "outputs": [],
   "source": [
    "def find_label(query_key):\n",
    "    assert len(labels_per_image_csv.index[labels_per_image_csv['query_key']==query_key].tolist())==1\n",
    "\n",
    "    row_id = labels_per_image_csv.index[labels_per_image_csv['query_key']==query_key].tolist()[0]\n",
    "    view_label = labels_per_image_csv.iloc[row_id].view_label\n",
    "    diagnosis_label = labels_per_image_csv.iloc[row_id].diagnosis_label\n",
    "    \n",
    "    return view_label, diagnosis_label"
   ]
  },
  {
   "cell_type": "code",
   "execution_count": null,
   "metadata": {},
   "outputs": [],
   "source": []
  },
  {
   "cell_type": "markdown",
   "metadata": {},
   "source": [
    "### Please visit our website to download the data: https://tmed.cs.tufts.edu/"
   ]
  },
  {
   "cell_type": "code",
   "execution_count": 8,
   "metadata": {},
   "outputs": [],
   "source": [
    "labels_per_image_csv = pd.read_csv('YOUR_PATH/labels_per_image.csv')\n"
   ]
  },
  {
   "cell_type": "code",
   "execution_count": 9,
   "metadata": {},
   "outputs": [
    {
     "data": {
      "text/html": [
       "<div>\n",
       "<style scoped>\n",
       "    .dataframe tbody tr th:only-of-type {\n",
       "        vertical-align: middle;\n",
       "    }\n",
       "\n",
       "    .dataframe tbody tr th {\n",
       "        vertical-align: top;\n",
       "    }\n",
       "\n",
       "    .dataframe thead th {\n",
       "        text-align: right;\n",
       "    }\n",
       "</style>\n",
       "<table border=\"1\" class=\"dataframe\">\n",
       "  <thead>\n",
       "    <tr style=\"text-align: right;\">\n",
       "      <th></th>\n",
       "      <th>query_key</th>\n",
       "      <th>view_label</th>\n",
       "      <th>diagnosis_label</th>\n",
       "    </tr>\n",
       "  </thead>\n",
       "  <tbody>\n",
       "    <tr>\n",
       "      <th>0</th>\n",
       "      <td>4860s1_0.png</td>\n",
       "      <td>A4C</td>\n",
       "      <td>moderate_AS</td>\n",
       "    </tr>\n",
       "    <tr>\n",
       "      <th>1</th>\n",
       "      <td>4860s1_1.png</td>\n",
       "      <td>A2C</td>\n",
       "      <td>moderate_AS</td>\n",
       "    </tr>\n",
       "    <tr>\n",
       "      <th>2</th>\n",
       "      <td>4860s1_2.png</td>\n",
       "      <td>PLAX</td>\n",
       "      <td>moderate_AS</td>\n",
       "    </tr>\n",
       "    <tr>\n",
       "      <th>3</th>\n",
       "      <td>4860s1_3.png</td>\n",
       "      <td>PLAX</td>\n",
       "      <td>moderate_AS</td>\n",
       "    </tr>\n",
       "    <tr>\n",
       "      <th>4</th>\n",
       "      <td>4860s1_4.png</td>\n",
       "      <td>PLAX</td>\n",
       "      <td>moderate_AS</td>\n",
       "    </tr>\n",
       "    <tr>\n",
       "      <th>...</th>\n",
       "      <td>...</td>\n",
       "      <td>...</td>\n",
       "      <td>...</td>\n",
       "    </tr>\n",
       "    <tr>\n",
       "      <th>24959</th>\n",
       "      <td>2797s1_28.png</td>\n",
       "      <td>A4C</td>\n",
       "      <td>Not_Provided</td>\n",
       "    </tr>\n",
       "    <tr>\n",
       "      <th>24960</th>\n",
       "      <td>235s1_0.png</td>\n",
       "      <td>PLAX</td>\n",
       "      <td>Not_Provided</td>\n",
       "    </tr>\n",
       "    <tr>\n",
       "      <th>24961</th>\n",
       "      <td>235s1_1.png</td>\n",
       "      <td>A4C</td>\n",
       "      <td>Not_Provided</td>\n",
       "    </tr>\n",
       "    <tr>\n",
       "      <th>24962</th>\n",
       "      <td>235s1_2.png</td>\n",
       "      <td>PLAX</td>\n",
       "      <td>Not_Provided</td>\n",
       "    </tr>\n",
       "    <tr>\n",
       "      <th>24963</th>\n",
       "      <td>235s1_3.png</td>\n",
       "      <td>A4C</td>\n",
       "      <td>Not_Provided</td>\n",
       "    </tr>\n",
       "  </tbody>\n",
       "</table>\n",
       "<p>24964 rows × 3 columns</p>\n",
       "</div>"
      ],
      "text/plain": [
       "           query_key view_label diagnosis_label\n",
       "0       4860s1_0.png        A4C     moderate_AS\n",
       "1       4860s1_1.png        A2C     moderate_AS\n",
       "2       4860s1_2.png       PLAX     moderate_AS\n",
       "3       4860s1_3.png       PLAX     moderate_AS\n",
       "4       4860s1_4.png       PLAX     moderate_AS\n",
       "...              ...        ...             ...\n",
       "24959  2797s1_28.png        A4C    Not_Provided\n",
       "24960    235s1_0.png       PLAX    Not_Provided\n",
       "24961    235s1_1.png        A4C    Not_Provided\n",
       "24962    235s1_2.png       PLAX    Not_Provided\n",
       "24963    235s1_3.png        A4C    Not_Provided\n",
       "\n",
       "[24964 rows x 3 columns]"
      ]
     },
     "execution_count": 9,
     "metadata": {},
     "output_type": "execute_result"
    }
   ],
   "source": [
    "labels_per_image_csv"
   ]
  },
  {
   "cell_type": "code",
   "execution_count": 10,
   "metadata": {},
   "outputs": [],
   "source": [
    "raw_data_dir = 'YOUR_PATH/'\n"
   ]
  },
  {
   "cell_type": "code",
   "execution_count": null,
   "metadata": {},
   "outputs": [],
   "source": []
  },
  {
   "cell_type": "markdown",
   "metadata": {},
   "source": [
    "### visualize image from view_and_diagnosis_labeled_set"
   ]
  },
  {
   "cell_type": "code",
   "execution_count": 12,
   "metadata": {},
   "outputs": [
    {
     "name": "stdout",
     "output_type": "stream",
     "text": [
      "number of images in the ImageList_view_and_diagnosis_labeledset: 17271\n"
     ]
    }
   ],
   "source": [
    "view_and_diagnosis_labeledset_path = os.path.join(raw_data_dir, 'view_and_diagnosis_labeled_set/labeled')\n",
    "ImageList_view_and_diagnosis_labeledset = os.listdir(view_and_diagnosis_labeledset_path)\n",
    "print('number of images in the ImageList_view_and_diagnosis_labeledset: {}'.format(len(ImageList_view_and_diagnosis_labeledset))) #as sainty check: should be \n"
   ]
  },
  {
   "cell_type": "code",
   "execution_count": 13,
   "metadata": {},
   "outputs": [],
   "source": [
    "#randomly choose one image from the labeled set to visualize\n",
    "im_to_visualize = random.choice(ImageList_view_and_diagnosis_labeledset)\n",
    "view_label, diagnosis_label = find_label(im_to_visualize)"
   ]
  },
  {
   "cell_type": "code",
   "execution_count": 14,
   "metadata": {},
   "outputs": [
    {
     "name": "stdout",
     "output_type": "stream",
     "text": [
      "Currently visualizing 3791s1_14.png from labeled set\n",
      "view: A4CorA2CorOther, diagnosis: severe_AS\n"
     ]
    },
    {
     "data": {
      "image/png": "[encoded data removed]",
      "text/plain": [
       "<Figure size 432x288 with 1 Axes>"
      ]
     },
     "metadata": {
      "needs_background": "light"
     },
     "output_type": "display_data"
    }
   ],
   "source": [
    "print('Currently visualizing {} from labeled set'.format(im_to_visualize))\n",
    "print('view: {}, diagnosis: {}'.format(view_label, diagnosis_label))\n",
    "ShowGrayscaleImage(os.path.join(view_and_diagnosis_labeledset_path, im_to_visualize))"
   ]
  },
  {
   "cell_type": "code",
   "execution_count": null,
   "metadata": {},
   "outputs": [],
   "source": []
  },
  {
   "cell_type": "markdown",
   "metadata": {},
   "source": [
    "### visualize image from view_labeled_set"
   ]
  },
  {
   "cell_type": "code",
   "execution_count": 15,
   "metadata": {},
   "outputs": [
    {
     "name": "stdout",
     "output_type": "stream",
     "text": [
      "number of images in the ImageList_view_labeledset: 7695\n"
     ]
    }
   ],
   "source": [
    "view_labeledset_path = os.path.join(raw_data_dir, 'view_labeled_set/labeled')\n",
    "ImageList_view_labeledset = os.listdir(view_labeledset_path)\n",
    "print('number of images in the ImageList_view_labeledset: {}'.format(len(ImageList_view_labeledset))) #as sainty check: should be \n"
   ]
  },
  {
   "cell_type": "code",
   "execution_count": 16,
   "metadata": {},
   "outputs": [],
   "source": [
    "#randomly choose one image from the labeled set to visualize\n",
    "im_to_visualize = random.choice(ImageList_view_labeledset)\n",
    "view_label, diagnosis_label = find_label(im_to_visualize)"
   ]
  },
  {
   "cell_type": "code",
   "execution_count": 17,
   "metadata": {
    "scrolled": true
   },
   "outputs": [
    {
     "name": "stdout",
     "output_type": "stream",
     "text": [
      "Currently visualizing 753s1_3.png from labeled set\n",
      "view: PSAX, diagnosis: Not_Provided\n"
     ]
    },
    {
     "data": {
      "image/png": "[encoded data removed]",
      "text/plain": [
       "<Figure size 432x288 with 1 Axes>"
      ]
     },
     "metadata": {
      "needs_background": "light"
     },
     "output_type": "display_data"
    }
   ],
   "source": [
    "print('Currently visualizing {} from labeled set'.format(im_to_visualize))\n",
    "print('view: {}, diagnosis: {}'.format(view_label, diagnosis_label))\n",
    "ShowGrayscaleImage(os.path.join(view_labeledset_path, im_to_visualize))"
   ]
  },
  {
   "cell_type": "code",
   "execution_count": null,
   "metadata": {},
   "outputs": [],
   "source": []
  }
 ],
 "metadata": {
  "kernelspec": {
   "display_name": "Python 3 (ipykernel)",
   "language": "python",
   "name": "python3"
  },
  "language_info": {
   "codemirror_mode": {
    "name": "ipython",
    "version": 3
   },
   "file_extension": ".py",
   "mimetype": "text/x-python",
   "name": "python",
   "nbconvert_exporter": "python",
   "pygments_lexer": "ipython3",
   "version": "3.8.12"
  }
 },
 "nbformat": 4,
 "nbformat_minor": 4
}
