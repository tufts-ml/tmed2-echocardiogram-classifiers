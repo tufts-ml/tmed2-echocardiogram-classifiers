{
 "cells": [
  {
   "cell_type": "code",
   "execution_count": 1,
   "metadata": {},
   "outputs": [],
   "source": [
    "import numpy as np\n",
    "import torch\n",
    "from torchvision import transforms\n",
    "\n",
    "import matplotlib.pyplot as plt\n",
    "%matplotlib inline\n"
   ]
  },
  {
   "cell_type": "code",
   "execution_count": 2,
   "metadata": {},
   "outputs": [],
   "source": [
    "from utils import GradCAM, show_cam_on_image, center_crop_img"
   ]
  },
  {
   "cell_type": "code",
   "execution_count": 3,
   "metadata": {},
   "outputs": [],
   "source": [
    "# view_class_to_integer_mapping = {'PLAX':0, 'PSAX':1, 'A4C':2, 'A2C':3, 'Useful_Unlabeled':4, 'Not_Provided':-1}\n",
    "integer_to_class_mapping = {0:'PLAX', 1:'PSAX', 2:'A4C', 3:'A2C', 4: 'A4CorA2CorOther', -1:'Not_Provided'}"
   ]
  },
  {
   "cell_type": "code",
   "execution_count": 4,
   "metadata": {},
   "outputs": [],
   "source": [
    "def read_npy(filepath):\n",
    "    with open(filepath, 'rb') as f:\n",
    "        data = np.load(f)\n",
    "    \n",
    "    return data\n",
    "    "
   ]
  },
  {
   "cell_type": "code",
   "execution_count": 5,
   "metadata": {},
   "outputs": [],
   "source": [
    "def create_model(model_depth, model_width, dropout_rate, num_classes):\n",
    "    import models.wideresnet_ModifiedToBeSameAsTF as models\n",
    "    model = models.build_wideresnet(depth=model_depth,\n",
    "                                    widen_factor=model_width,\n",
    "                                    dropout=dropout_rate,\n",
    "                                    num_classes=num_classes)\n",
    "    return model\n",
    "    "
   ]
  },
  {
   "cell_type": "code",
   "execution_count": 6,
   "metadata": {},
   "outputs": [],
   "source": [
    "def show_random_image_with_saliency(image_array, label_array, model):\n",
    "   \n",
    "    cuda = torch.cuda.is_available()\n",
    "    if cuda:\n",
    "        print('cuda available')\n",
    "        device = torch.device('cuda')\n",
    "    else:\n",
    "        raise ValueError('Not Using GPU?')\n",
    "\n",
    "    \n",
    "    model.to(device)\n",
    "    \n",
    "    #define target layer: usually the last conv layer\n",
    "    target_layers = [model.block4]\n",
    "    \n",
    "    num_images  = len(image_array)\n",
    "    assert num_images == len(label_array)\n",
    "    \n",
    "    random_idx = np.random.choice(np.arange(num_images), 1, replace=False)[0]\n",
    "    print('selected {}th image'.format(random_idx))\n",
    "    \n",
    "    img = image_array[random_idx]\n",
    "    label = label_array[random_idx]\n",
    "    \n",
    "    #use the same transform as the fixmatch.py\n",
    "    data_transform = transforms.Compose([transforms.ToTensor(),\n",
    "                                         transforms.Normalize([0.0, 0.0, 0.0], [1.0, 1.0, 1.0])])\n",
    "    \n",
    "    img_tensor = data_transform(img)\n",
    "    img_tensor = img_tensor.to(device)\n",
    "\n",
    "    input_tensor = torch.unsqueeze(img_tensor, dim=0)\n",
    "    \n",
    "    cam = GradCAM(model=model, target_layers=target_layers, use_cuda=cuda)\n",
    "    \n",
    "    grayscale_cam, predicted_class = cam(input_tensor=input_tensor)\n",
    "    \n",
    "    grayscale_cam = grayscale_cam[0, :]\n",
    "    \n",
    "    visualization = show_cam_on_image(img.astype(dtype=np.float32)/255.,\n",
    "                                 grayscale_cam,\n",
    "                                 use_rgb=True)\n",
    "\n",
    "    \n",
    "    fig, ax = plt.subplots(nrows=1, ncols=2, figsize=(12, 9), dpi = 100)\n",
    "    ax[0].imshow(img)\n",
    "    ax[0].set_title('original, true: {}'.format(integer_to_class_mapping[label]))\n",
    "    ax[1].imshow(visualization)\n",
    "    ax[1].set_title('saliency, predicted: {}'.format(integer_to_class_mapping[predicted_class[0]]))\n",
    "    \n",
    "    plt.show()\n",
    "    \n",
    "\n"
   ]
  },
  {
   "cell_type": "code",
   "execution_count": null,
   "metadata": {},
   "outputs": [],
   "source": []
  },
  {
   "cell_type": "code",
   "execution_count": null,
   "metadata": {},
   "outputs": [],
   "source": []
  },
  {
   "cell_type": "markdown",
   "metadata": {},
   "source": [
    "### load data"
   ]
  },
  {
   "cell_type": "code",
   "execution_count": 7,
   "metadata": {},
   "outputs": [],
   "source": [
    "test_image_path = '/cluster/tufts/hugheslab/zhuang12/Echo_ClinicalManualScript_1112/ML_DATA/ViewClassifier/npy_seed1/shared_test_this_seed/test_image.npy'\n",
    "test_label_path = '/cluster/tufts/hugheslab/zhuang12/Echo_ClinicalManualScript_1112/ML_DATA/ViewClassifier/npy_seed1/shared_test_this_seed/test_label.npy'\n"
   ]
  },
  {
   "cell_type": "code",
   "execution_count": 8,
   "metadata": {},
   "outputs": [],
   "source": [
    "test_image_array = read_npy(test_image_path)\n",
    "test_label_array = read_npy(test_label_path)\n"
   ]
  },
  {
   "cell_type": "code",
   "execution_count": 9,
   "metadata": {},
   "outputs": [
    {
     "data": {
      "text/plain": [
       "(3473, 112, 112, 3)"
      ]
     },
     "execution_count": 9,
     "metadata": {},
     "output_type": "execute_result"
    }
   ],
   "source": [
    "test_image_array.shape"
   ]
  },
  {
   "cell_type": "markdown",
   "metadata": {},
   "source": [
    "### create model"
   ]
  },
  {
   "cell_type": "code",
   "execution_count": 10,
   "metadata": {},
   "outputs": [],
   "source": [
    "model_depth = 28\n",
    "model_width = 2\n",
    "dropout_rate = 0.0\n",
    "num_classes = 5\n",
    "\n",
    "model = create_model(model_depth, model_width, dropout_rate, num_classes)\n"
   ]
  },
  {
   "cell_type": "markdown",
   "metadata": {},
   "source": [
    "### load pretrained checkpoint"
   ]
  },
  {
   "cell_type": "code",
   "execution_count": 11,
   "metadata": {},
   "outputs": [],
   "source": [
    "checkpoint_path = '/cluster/tufts/hugheslab/zhuang12/Echo_ClinicalManualScript_torch/FixMatch-pytorch_1126/experiments/ViewClassifier/seed1/DEV479/echo/lr0.03_dropout_rate0.0_wd0.005_warmup_img0.0_lambda_u1.0_mu2_T1.0_threshold0.95_PLAX_batch13_PSAX_batch4_A4C_batch9_A2C_batch6_UsefulUnlabeled_batch10_PLAX_PSAX_upweight_factor3.0_class_weights1.17,3.05,1.70,2.55,1.53/model_best.pth.tar'\n",
    "\n",
    "checkpoint = torch.load(checkpoint_path)\n"
   ]
  },
  {
   "cell_type": "code",
   "execution_count": 12,
   "metadata": {},
   "outputs": [
    {
     "data": {
      "text/plain": [
       "<All keys matched successfully>"
      ]
     },
     "execution_count": 12,
     "metadata": {},
     "output_type": "execute_result"
    }
   ],
   "source": [
    "#load the ema weights\n",
    "model.load_state_dict(checkpoint['ema_state_dict'])"
   ]
  },
  {
   "cell_type": "code",
   "execution_count": null,
   "metadata": {},
   "outputs": [],
   "source": []
  },
  {
   "cell_type": "code",
   "execution_count": 67,
   "metadata": {
    "scrolled": false
   },
   "outputs": [
    {
     "name": "stdout",
     "output_type": "stream",
     "text": [
      "cuda available\n",
      "selected 673th image\n",
      "predicted class is [2]\n",
      "category id: [2]\n",
      "loss is 11.83816146850586\n",
      "start loss.backward()\n",
      "finished loss.backward()\n",
      "start getting activations\n",
      "finished getting activations\n",
      "start getting grads\n",
      "finished getting grads\n"
     ]
    },
    {
     "data": {
      "image/png": "[encoded data removed]",
      "text/plain": [
       "<Figure size 1200x900 with 2 Axes>"
      ]
     },
     "metadata": {
      "needs_background": "light"
     },
     "output_type": "display_data"
    }
   ],
   "source": [
    "show_random_image_with_saliency(test_image_array, test_label_array, model)"
   ]
  },
  {
   "cell_type": "code",
   "execution_count": null,
   "metadata": {},
   "outputs": [],
   "source": []
  },
  {
   "cell_type": "code",
   "execution_count": null,
   "metadata": {},
   "outputs": [],
   "source": []
  }
 ],
 "metadata": {
  "kernelspec": {
   "display_name": "Python 3",
   "language": "python",
   "name": "python3"
  },
  "language_info": {
   "codemirror_mode": {
    "name": "ipython",
    "version": 3
   },
   "file_extension": ".py",
   "mimetype": "text/x-python",
   "name": "python",
   "nbconvert_exporter": "python",
   "pygments_lexer": "ipython3",
   "version": "3.8.12"
  }
 },
 "nbformat": 4,
 "nbformat_minor": 4
}
